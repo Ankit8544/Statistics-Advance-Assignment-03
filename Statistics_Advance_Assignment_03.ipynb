{
 "cells": [
  {
   "cell_type": "markdown",
   "metadata": {},
   "source": [
    "Q.No-01    What is Estimation Statistics? Explain point estimate and interval estimate."
   ]
  },
  {
   "cell_type": "markdown",
   "metadata": {},
   "source": [
    "Ans :-"
   ]
  },
  {
   "cell_type": "markdown",
   "metadata": {},
   "source": [
    "Estimation in statistics refers to the process of using sample data to make educated guesses or predictions about population parameters. Estimation involves providing an estimate, or a numerical value, that represents the likely value of a population parameter based on the information collected from a sample. There are two main types of estimation in statistics :"
   ]
  },
  {
   "cell_type": "markdown",
   "metadata": {},
   "source": [
    "1. **`Point Estimate -`**\n",
    "\n",
    "    A point estimate is a single numerical value that is used to approximate a population parameter. It is calculated directly from the sample data and is used to provide a \"best guess\" of the parameter's value. For example, if you are interested in estimating the average height of all students in a school, you could take the average height of a sample of students and use that value as a point estimate for the population average height.\n",
    "\n",
    "    While point estimates provide a simple way to summarize and make predictions about a population, they do not provide any information about the uncertainty or variability associated with the estimate. This is where interval estimates come into play."
   ]
  },
  {
   "cell_type": "markdown",
   "metadata": {},
   "source": [
    "2. **`Interval Estimate (Confidence Interval) -`**\n",
    "\n",
    "    An interval estimate, also known as a confidence interval, is a range of values that is constructed around a point estimate. This range is designed to capture the true population parameter with a certain level of confidence. The confidence interval indicates the range within which the parameter is likely to fall based on the sample data.\n",
    "\n",
    "    Confidence intervals are expressed as a range of values, typically calculated as follows: point estimate ± margin of error. The margin of error accounts for the variability inherent in sampling and provides an indication of the uncertainty associated with the estimate. The level of confidence, often denoted as a percentage (e.g., 95% confidence interval), reflects how sure we are that the true parameter lies within the calculated interval.\n",
    "\n",
    "    For instance, if a study calculates a 95% confidence interval for the average income of a certain population to be $40,000 ± $2,000, it means that we can be 95% confident that the true average income falls within the range of $38,000 to $42,000 based on the sample data."
   ]
  },
  {
   "cell_type": "markdown",
   "metadata": {},
   "source": [
    "In summary, estimation in statistics involves using sample data to make educated guesses about population parameters. Point estimates provide a single value approximation, while interval estimates (confidence intervals) provide a range of values that reflects the uncertainty associated with the estimate. Confidence intervals are commonly used in statistical analysis to provide a more complete understanding of the population parameter being estimated."
   ]
  },
  {
   "cell_type": "markdown",
   "metadata": {},
   "source": [
    "--------------------------------------------------------------------------------------------------------------------"
   ]
  },
  {
   "cell_type": "markdown",
   "metadata": {},
   "source": [
    "Q.No-02    Write a Python function to estimate the population mean using a sample mean and standard\n",
    "deviation."
   ]
  },
  {
   "cell_type": "markdown",
   "metadata": {},
   "source": [
    "Ans :-"
   ]
  },
  {
   "cell_type": "code",
   "execution_count": 1,
   "metadata": {},
   "outputs": [
    {
     "name": "stdout",
     "output_type": "stream",
     "text": [
      "Sample Mean =  50\n",
      "Sample Std Dev =  10\n",
      "Sample Size =  100\n",
      "Estimated population mean: 50 (within 48.04 and 51.96)\n"
     ]
    }
   ],
   "source": [
    "def estimate_population_mean(sample_mean, sample_stddev, sample_size):\n",
    "    import math\n",
    "    standard_error = sample_stddev / math.sqrt(sample_size)\n",
    "    \n",
    "    # Calculate the margin of error\n",
    "    z_critical = 1.96  # For a 95% confidence interval\n",
    "    margin_of_error = z_critical * standard_error\n",
    "    \n",
    "    # Calculate the lower and upper bounds of the confidence interval\n",
    "    lower_bound = sample_mean - margin_of_error\n",
    "    upper_bound = sample_mean + margin_of_error\n",
    "    \n",
    "    return lower_bound, upper_bound\n",
    "\n",
    "\n",
    "sample_mean = int(input(\"Enter the Sample Mean Value :\"))\n",
    "print(\"Sample Mean = \",sample_mean)\n",
    "sample_stddev = int(input(\"Enter the Sample Std Dev Value :\"))\n",
    "print(\"Sample Std Dev = \",sample_stddev)\n",
    "sample_size = int(input(\"Enter the Sample Size :\"))\n",
    "print(\"Sample Size = \",sample_size)\n",
    "lower_bound, upper_bound = estimate_population_mean(sample_mean, sample_stddev, sample_size)\n",
    "print(f\"Estimated population mean: {sample_mean} (within {lower_bound} and {upper_bound})\")\n"
   ]
  },
  {
   "cell_type": "markdown",
   "metadata": {},
   "source": [
    "--------------------------------------------------------------------------------------------------------------------"
   ]
  },
  {
   "cell_type": "markdown",
   "metadata": {},
   "source": [
    "Q.No-03    What is Hypothesis testing? Why is it used? State the importance of Hypothesis testing."
   ]
  },
  {
   "cell_type": "markdown",
   "metadata": {},
   "source": [
    "Ans :-"
   ]
  },
  {
   "cell_type": "markdown",
   "metadata": {},
   "source": [
    "**`Hypothesis testing`** is a fundamental concept in statistics that involves making decisions about a population based on a sample of data. It's a structured process used to determine whether a certain assumption or hypothesis about a population parameter is likely to be true or not, given the available evidence in the form of sample data."
   ]
  },
  {
   "cell_type": "markdown",
   "metadata": {},
   "source": [
    "The primary goal of hypothesis testing is to assess the validity of claims or statements made about a population parameter, such as a population mean, proportion, variance, or other relevant characteristics. It helps researchers, analysts, and scientists draw conclusions about the larger population using a smaller subset of data (the sample)."
   ]
  },
  {
   "cell_type": "markdown",
   "metadata": {},
   "source": [
    "`Here's how the process typically works -`"
   ]
  },
  {
   "cell_type": "markdown",
   "metadata": {},
   "source": [
    "1. **`Formulate Hypotheses :`** Two hypotheses are formulated: the null hypothesis (H0) and the alternative hypothesis (Ha). The null hypothesis typically represents the status quo or the assumption that there's no significant effect or difference, while the alternative hypothesis represents what you're trying to prove or find evidence for."
   ]
  },
  {
   "cell_type": "markdown",
   "metadata": {},
   "source": [
    "2. **`Collect Data :`** A sample is collected from the population of interest. This data will be used to evaluate the hypotheses."
   ]
  },
  {
   "cell_type": "markdown",
   "metadata": {},
   "source": [
    "3. **`Statistical Analysis :`** Statistical tests are performed on the sample data to determine the likelihood of observing the results under the assumption of the null hypothesis. The choice of statistical test depends on the type of data and the research question."
   ]
  },
  {
   "cell_type": "markdown",
   "metadata": {},
   "source": [
    "4. **`Calculate P-value :`** The p-value is a measure of how extreme the observed sample data is, assuming the null hypothesis is true. A small p-value suggests that the observed data is unlikely under the null hypothesis."
   ]
  },
  {
   "cell_type": "markdown",
   "metadata": {},
   "source": [
    "5. **`Make a Decision :`** Based on the p-value and a pre-defined significance level (alpha), a decision is made whether to reject the null hypothesis or not. If the p-value is smaller than alpha, the null hypothesis is rejected in favor of the alternative hypothesis. If the p-value is larger than alpha, there isn't enough evidence to reject the null hypothesis."
   ]
  },
  {
   "cell_type": "markdown",
   "metadata": {},
   "source": [
    "6. **`Draw Conclusions :`** If the null hypothesis is rejected, it suggests that the evidence supports the alternative hypothesis, which means there's a significant effect or difference in the population. If the null hypothesis isn't rejected, there's insufficient evidence to conclude that the population parameter differs from the assumed value."
   ]
  },
  {
   "cell_type": "markdown",
   "metadata": {},
   "source": [
    "`Importance of Hypothesis Testing -`"
   ]
  },
  {
   "cell_type": "markdown",
   "metadata": {},
   "source": [
    "1. **`Scientific Rigor :`** Hypothesis testing provides a structured framework for making objective decisions based on data, enhancing the rigor and reliability of scientific research."
   ]
  },
  {
   "cell_type": "markdown",
   "metadata": {},
   "source": [
    "2. **`Informed Decision-Making :`** Businesses, policymakers, and researchers use hypothesis testing to make informed decisions backed by statistical evidence."
   ]
  },
  {
   "cell_type": "markdown",
   "metadata": {},
   "source": [
    "3. **`Validation of Claims :`** Hypothesis testing helps verify claims and assumptions made about populations, leading to more accurate conclusions."
   ]
  },
  {
   "cell_type": "markdown",
   "metadata": {},
   "source": [
    "4. **`Statistical Significance :`** It allows us to determine whether observed differences or effects are statistically significant, helping distinguish between random variability and meaningful patterns."
   ]
  },
  {
   "cell_type": "markdown",
   "metadata": {},
   "source": [
    "5. **`Problem Solving :`** In various fields, hypothesis testing aids in addressing questions and solving problems by providing a systematic way to assess evidence."
   ]
  },
  {
   "cell_type": "markdown",
   "metadata": {},
   "source": [
    "6. **`Continuous Improvement :`** In quality control and process improvement, hypothesis testing helps identify areas that need attention and improvement."
   ]
  },
  {
   "cell_type": "markdown",
   "metadata": {},
   "source": [
    "7. **`Advancing Knowledge :`** By testing hypotheses, we can contribute to the advancement of knowledge by either confirming existing theories or discovering new insights."
   ]
  },
  {
   "cell_type": "markdown",
   "metadata": {},
   "source": [
    "Overall, hypothesis testing is a cornerstone of scientific and statistical reasoning, enabling us to draw meaningful conclusions from data and guiding decision-making across a wide range of disciplines."
   ]
  },
  {
   "cell_type": "markdown",
   "metadata": {},
   "source": [
    "--------------------------------------------------------------------------------------------------------------------"
   ]
  },
  {
   "cell_type": "markdown",
   "metadata": {},
   "source": [
    "Q.No-04    Create a hypothesis that states whether the average weight of male college students is greater than\n",
    "the average weight of female college students."
   ]
  },
  {
   "cell_type": "markdown",
   "metadata": {},
   "source": [
    "Ans :-"
   ]
  },
  {
   "cell_type": "markdown",
   "metadata": {},
   "source": [
    "**`Hypothesis :-`** The average weight of male college students is greater than the average weight of female college students."
   ]
  },
  {
   "cell_type": "markdown",
   "metadata": {},
   "source": [
    "Null Hypothesis (H0): The average weight of male college students is equal to or less than the average weight of female college students."
   ]
  },
  {
   "cell_type": "markdown",
   "metadata": {},
   "source": [
    "Alternative Hypothesis (H1): The average weight of male college students is greater than the average weight of female college students."
   ]
  },
  {
   "cell_type": "markdown",
   "metadata": {},
   "source": [
    "In this hypothesis, the null hypothesis (H0) suggests that there is no significant difference in the average weight between male and female college students, while the alternative hypothesis (H1) posits that there is a significant difference, with male college students having a higher average weight than female college students."
   ]
  },
  {
   "cell_type": "code",
   "execution_count": 2,
   "metadata": {},
   "outputs": [
    {
     "name": "stdout",
     "output_type": "stream",
     "text": [
      "Reject null hypothesis. Average weight of male students is greater than female students.\n"
     ]
    }
   ],
   "source": [
    "import numpy as np\n",
    "from scipy import stats\n",
    "\n",
    "# Sample data (replace with your actual data)\n",
    "male_weights = np.array([70, 75, 80, 85, 90])\n",
    "female_weights = np.array([50, 55, 60, 65, 70])\n",
    "\n",
    "# Calculate t-statistic and p-value\n",
    "t_statistic, p_value = stats.ttest_ind(male_weights, female_weights, alternative='greater')\n",
    "\n",
    "alpha = 0.05  # significance level\n",
    "\n",
    "# Compare p-value with significance level\n",
    "if p_value < alpha:\n",
    "    print(\"Reject null hypothesis. Average weight of male students is greater than female students.\")\n",
    "else:\n",
    "    print(\"Fail to reject null hypothesis. There's no significant evidence that average weight of male students is greater.\")\n"
   ]
  },
  {
   "cell_type": "markdown",
   "metadata": {},
   "source": [
    "--------------------------------------------------------------------------------------------------------------------"
   ]
  },
  {
   "cell_type": "markdown",
   "metadata": {},
   "source": [
    "Q.No-05    Write a Python script to conduct a hypothesis test on the difference between two population means,\n",
    "given a sample from each population."
   ]
  },
  {
   "cell_type": "markdown",
   "metadata": {},
   "source": [
    "Ans :-"
   ]
  },
  {
   "cell_type": "code",
   "execution_count": 3,
   "metadata": {},
   "outputs": [
    {
     "name": "stdout",
     "output_type": "stream",
     "text": [
      "First Sample Data :-  [20.1 21.5 22.7 23.2 19.8 21.  22.4 20.6 22.  21.9]\n",
      "Mean of First Sample Data :-  21.520000000000003\n",
      "STD DEV. of First Sample Data :-  1.128223776069662\n",
      "\n",
      "Second Sample Data :-  [18.5 19.8 21.2 20.1 18.9 20.5 19.7 19.3 21.8 20.2]\n",
      "Mean of Second Sample Data :- 21.520000000000003\n",
      "STD DEV. of First Sample Data :-  1.128223776069662\n",
      "\n",
      "Reject the null hypothesis. There is a significant difference between the population means.\n",
      "\n",
      "T-statistic: 3.183600010538518\n",
      "P-value: 0.005144592192492414\n"
     ]
    }
   ],
   "source": [
    "import numpy as np\n",
    "from scipy.stats import t\n",
    "\n",
    "# Sample data from two populations\n",
    "sample1_Q5 = np.array([20.1, 21.5, 22.7, 23.2, 19.8, 21.0, 22.4, 20.6, 22.0, 21.9])\n",
    "sample2_Q5 = np.array([18.5, 19.8, 21.2, 20.1, 18.9, 20.5, 19.7, 19.3, 21.8, 20.2])\n",
    "\n",
    "# Define significance level\n",
    "alpha_Q5 = 0.05\n",
    "\n",
    "# Calculate sample statistics\n",
    "mean1_Q5 = np.mean(sample1_Q5)\n",
    "mean2_Q5 = np.mean(sample2_Q5)\n",
    "std1_Q5 = np.std(sample1_Q5, ddof=1)  # Use Bessel's correction for sample standard deviation\n",
    "std2_Q5 = np.std(sample2_Q5, ddof=1)\n",
    "\n",
    "# Calculate pooled standard deviation\n",
    "pooled_std_Q5 = np.sqrt(((len(sample1_Q5) - 1) * std1_Q5**2 + (len(sample2_Q5) - 1) * std2_Q5**2) / (len(sample1_Q5) + len(sample2_Q5) - 2))\n",
    "\n",
    "# Calculate t-statistic\n",
    "t_statistic_Q5 = (mean1_Q5 - mean2_Q5) / (pooled_std_Q5 * np.sqrt(1/len(sample1_Q5) + 1/len(sample2_Q5)))\n",
    "\n",
    "# Degrees of freedom\n",
    "df_Q5 = len(sample1_Q5) + len(sample2_Q5) - 2\n",
    "\n",
    "# Calculate critical t-value for two-tailed test\n",
    "critical_t_Q5 = t.ppf(1 - alpha_Q5 / 2, df_Q5)\n",
    "\n",
    "# Calculate p-value\n",
    "p_value_Q5 = 2 * (1 - t.cdf(abs(t_statistic_Q5), df_Q5))\n",
    "\n",
    "print(\"First Sample Data :- \",sample1_Q5)\n",
    "print(\"Mean of First Sample Data :- \",mean1_Q5)\n",
    "print(\"STD DEV. of First Sample Data :- \",std1_Q5)\n",
    "print(\"\\nSecond Sample Data :- \",sample2_Q5)\n",
    "print(\"Mean of Second Sample Data :-\",mean1_Q5)\n",
    "print(\"STD DEV. of First Sample Data :- \",std1_Q5)\n",
    "\n",
    "\n",
    "# Compare t-statistic with critical t-value and report results\n",
    "if abs(t_statistic_Q5) > critical_t_Q5:\n",
    "    print(\"\\nReject the null hypothesis. There is a significant difference between the population means.\")\n",
    "else:\n",
    "    print(\"\\nFail to reject the null hypothesis. There is no significant difference between the population means.\")\n",
    "\n",
    "print(\"\\nT-statistic:\", t_statistic_Q5)\n",
    "print(\"P-value:\", p_value_Q5)\n"
   ]
  },
  {
   "cell_type": "markdown",
   "metadata": {},
   "source": [
    "--------------------------------------------------------------------------------------------------------------------"
   ]
  },
  {
   "cell_type": "markdown",
   "metadata": {},
   "source": [
    "Q.No-06    What is a null and alternative hypothesis? Give some examples."
   ]
  },
  {
   "cell_type": "markdown",
   "metadata": {},
   "source": [
    "Ans :-"
   ]
  },
  {
   "cell_type": "markdown",
   "metadata": {},
   "source": [
    "In statistics, the null hypothesis (H0) and the alternative hypothesis (H1 or Ha) are fundamental concepts used in hypothesis testing. Hypothesis testing is a method used to make decisions or draw conclusions about a population based on sample data."
   ]
  },
  {
   "cell_type": "markdown",
   "metadata": {},
   "source": [
    "1. **`Null Hypothesis (H0) :-`** The null hypothesis is a statement that there is no significant effect or no difference between groups or variables being compared. It is often the default assumption that researchers aim to test against. In other words, it represents the status quo or the absence of an effect.\n",
    "\n",
    "**Examples of null hypotheses -**\n",
    "   - The average height of male and female individuals is the same.\n",
    "   - A new drug has no effect on reducing blood pressure.\n",
    "   - There is no association between smoking and the development of lung cancer."
   ]
  },
  {
   "cell_type": "markdown",
   "metadata": {},
   "source": [
    "2. **`Alternative Hypothesis (H1 or Ha) :-`** The alternative hypothesis is a statement that contradicts the null hypothesis. It suggests that there is a significant effect or a difference between groups or variables being compared. Researchers are interested in gathering evidence to support the alternative hypothesis.\n",
    "\n",
    "**Examples of alternative hypotheses (corresponding to the examples of null hypotheses above) -**\n",
    "   - The average height of male and female individuals is different.\n",
    "   - The new drug has a significant effect on reducing blood pressure.\n",
    "   - There is an association between smoking and the development of lung cancer."
   ]
  },
  {
   "cell_type": "markdown",
   "metadata": {},
   "source": [
    "`Example 1`: Comparing average heights of male and female individuals"
   ]
  },
  {
   "cell_type": "code",
   "execution_count": 4,
   "metadata": {},
   "outputs": [
    {
     "name": "stdout",
     "output_type": "stream",
     "text": [
      "Example 1 :- Comparing average heights of male and female individuals\n",
      "T-statistic: 6.314817739010613\n",
      "P-value: 0.00022910282133477953\n",
      "Reject the null hypothesis.\n"
     ]
    }
   ],
   "source": [
    "import numpy as np\n",
    "from scipy.stats import ttest_ind\n",
    "\n",
    "\n",
    "male_heights = np.array([175, 180, 182, 178, 183])\n",
    "female_heights = np.array([160, 165, 170, 163, 168])\n",
    "\n",
    "# Perform t-test for independent samples\n",
    "t_statistic, p_value = ttest_ind(male_heights, female_heights)\n",
    "\n",
    "# Print results\n",
    "print(\"Example 1 :- Comparing average heights of male and female individuals\")\n",
    "print(f\"T-statistic: {t_statistic}\")\n",
    "print(f\"P-value: {p_value}\")\n",
    "if p_value < 0.05:\n",
    "    print(\"Reject the null hypothesis.\")\n",
    "else:\n",
    "    print(\"Fail to reject the null hypothesis.\")"
   ]
  },
  {
   "cell_type": "markdown",
   "metadata": {},
   "source": [
    "`Example 2`: Testing the effect of a new drug on blood pressure"
   ]
  },
  {
   "cell_type": "code",
   "execution_count": 5,
   "metadata": {},
   "outputs": [
    {
     "name": "stdout",
     "output_type": "stream",
     "text": [
      "Example 2 :- Testing the effect of a new drug on blood pressure\n",
      "T-statistic: 2.8261670947211077\n",
      "P-value: 0.022281290305255972\n",
      "Reject the null hypothesis.\n"
     ]
    }
   ],
   "source": [
    "import numpy as np\n",
    "from scipy.stats import ttest_ind\n",
    "\n",
    "\n",
    "before_drug = np.array([130, 140, 135, 145, 138])\n",
    "after_drug = np.array([120, 130, 125, 135, 128])\n",
    "\n",
    "# Perform t-test for paired samples (before and after)\n",
    "t_statistic, p_value = ttest_ind(before_drug, after_drug)\n",
    "\n",
    "# Print results\n",
    "print(\"Example 2 :- Testing the effect of a new drug on blood pressure\")\n",
    "print(f\"T-statistic: {t_statistic}\")\n",
    "print(f\"P-value: {p_value}\")\n",
    "if p_value < 0.05:\n",
    "    print(\"Reject the null hypothesis.\")\n",
    "else:\n",
    "    print(\"Fail to reject the null hypothesis.\")"
   ]
  },
  {
   "cell_type": "markdown",
   "metadata": {},
   "source": [
    "`Example 3`: Testing the association between smoking and lung cancer"
   ]
  },
  {
   "cell_type": "code",
   "execution_count": 6,
   "metadata": {},
   "outputs": [
    {
     "name": "stdout",
     "output_type": "stream",
     "text": [
      "Example 3 :- Testing the association between smoking and lung cancer\n",
      "T-statistic: 4.919349550499537\n",
      "P-value: 0.03892553767285827\n",
      "Reject the null hypothesis.\n"
     ]
    }
   ],
   "source": [
    "import numpy as np\n",
    "from scipy.stats import ttest_ind\n",
    "\n",
    "\n",
    "smoker_lung_cancer = np.array([45, 55])\n",
    "non_smoker_lung_cancer = np.array([20, 25])\n",
    "\n",
    "# Perform t-test for independent samples\n",
    "t_statistic, p_value = ttest_ind(smoker_lung_cancer, non_smoker_lung_cancer)\n",
    "\n",
    "# Print results\n",
    "print(\"Example 3 :- Testing the association between smoking and lung cancer\")\n",
    "print(f\"T-statistic: {t_statistic}\")\n",
    "print(f\"P-value: {p_value}\")\n",
    "if p_value < 0.05:\n",
    "    print(\"Reject the null hypothesis.\")\n",
    "else:\n",
    "    print(\"Fail to reject the null hypothesis.\")"
   ]
  },
  {
   "cell_type": "markdown",
   "metadata": {},
   "source": [
    "In hypothesis testing, researchers collect and analyze sample data to determine whether there is enough evidence to reject the null hypothesis in favor of the alternative hypothesis. The decision is often based on a significance level (alpha) that determines how confident we need to be in the evidence before rejecting the null hypothesis. If the evidence is strong enough, the null hypothesis is rejected; if not, it is not rejected (though this does not necessarily mean the null hypothesis is proven true, only that there isn't enough evidence to suggest otherwise)."
   ]
  },
  {
   "cell_type": "markdown",
   "metadata": {},
   "source": [
    "It's important to note that statistical hypothesis testing cannot prove absolute truth, but it helps assess the likelihood of the observed data given certain assumptions. The choice of null and alternative hypotheses, as well as the appropriate statistical test, depends on the specific research question and the type of data being analyzed."
   ]
  },
  {
   "cell_type": "markdown",
   "metadata": {},
   "source": [
    "--------------------------------------------------------------------------------------------------------------------"
   ]
  },
  {
   "cell_type": "markdown",
   "metadata": {},
   "source": [
    "Q.No-07    Write down the steps involved in hypothesis testing."
   ]
  },
  {
   "cell_type": "markdown",
   "metadata": {},
   "source": [
    "Ans :-"
   ]
  },
  {
   "cell_type": "markdown",
   "metadata": {},
   "source": [
    "Hypothesis testing is a statistical method used to make inferences about a population based on a sample of data. It involves several steps to determine whether there's enough evidence to support or reject a hypothesis."
   ]
  },
  {
   "cell_type": "markdown",
   "metadata": {},
   "source": [
    "The most common framework for hypothesis testing involves the following steps:"
   ]
  },
  {
   "cell_type": "markdown",
   "metadata": {},
   "source": [
    "1. **Formulate Hypotheses:**\n",
    "   - Null Hypothesis (H0): This is the default assumption or statement of no effect or no difference in the population. It represents the status quo or the absence of an effect.\n",
    "   - Alternative Hypothesis (Ha or H1): This is the statement you're trying to find evidence for. It represents a specific effect, difference, or relationship in the population."
   ]
  },
  {
   "cell_type": "code",
   "execution_count": 7,
   "metadata": {},
   "outputs": [],
   "source": [
    "import numpy as np\n",
    "from scipy import stats\n",
    "\n",
    "# Step 1: Formulate Hypotheses\n",
    "# Null Hypothesis (H0): Population mean = hypothesized value\n",
    "# Alternative Hypothesis (Ha): Population mean ≠ hypothesized value"
   ]
  },
  {
   "cell_type": "markdown",
   "metadata": {},
   "source": [
    "2. **Select Significance Level (α):**\n",
    "   - The significance level, often denoted by α, is the probability of making a Type I error, which is rejecting the null hypothesis when it is actually true. Commonly used values are 0.05 or 0.01."
   ]
  },
  {
   "cell_type": "code",
   "execution_count": 8,
   "metadata": {},
   "outputs": [],
   "source": [
    "# Step 2: Select Significance Level (α)\n",
    "alpha = 0.05  # Significance level"
   ]
  },
  {
   "cell_type": "markdown",
   "metadata": {},
   "source": [
    "3. **Collect and Analyze Data:**\n",
    "   - Collect a representative sample of data from the population of interest.\n",
    "   - Perform appropriate data analysis techniques based on the nature of the data and the hypothesis being tested."
   ]
  },
  {
   "cell_type": "code",
   "execution_count": 9,
   "metadata": {},
   "outputs": [],
   "source": [
    "# Step 3: Collect and Analyze Data\n",
    "sample_data = np.array([25, 30, 28, 32, 31, 29, 27, 28, 30, 33])"
   ]
  },
  {
   "cell_type": "markdown",
   "metadata": {},
   "source": [
    "4. **Compute Test Statistic:**\n",
    "   - Calculate a test statistic based on the sample data. The choice of test statistic depends on the type of hypothesis being tested (e.g., means, proportions, variances, correlations, etc.)."
   ]
  },
  {
   "cell_type": "code",
   "execution_count": 10,
   "metadata": {},
   "outputs": [],
   "source": [
    "# Step 4: Calculate Sample Statistics (e.g., mean and standard deviation)\n",
    "sample_mean = np.mean(sample_data)\n",
    "sample_std = np.std(sample_data, ddof=1)  # ddof=1 for sample standard deviation\n",
    "\n",
    "# Step 4: Compute Test Statistic (t-test in this case)\n",
    "hypothesized_mean = 30\n",
    "t_statistic = (sample_mean - hypothesized_mean) / (sample_std / np.sqrt(len(sample_data)))"
   ]
  },
  {
   "cell_type": "markdown",
   "metadata": {},
   "source": [
    "5. **Calculate P-Value:**\n",
    "   - The p-value is the probability of observing a test statistic as extreme as, or more extreme than, the one calculated from the sample data, assuming that the null hypothesis is true.\n",
    "   - A small p-value (typically less than the chosen significance level α) suggests that the observed data is unlikely under the null hypothesis and provides evidence to reject it."
   ]
  },
  {
   "cell_type": "code",
   "execution_count": 11,
   "metadata": {},
   "outputs": [],
   "source": [
    "# Step 5: Calculate P-Value\n",
    "degrees_of_freedom = len(sample_data) - 1\n",
    "p_value = 2 * (1 - stats.t.cdf(np.abs(t_statistic), df=degrees_of_freedom))"
   ]
  },
  {
   "cell_type": "markdown",
   "metadata": {},
   "source": [
    "6. **Make a Decision:**\n",
    "   - Compare the calculated p-value to the significance level α.\n",
    "   - If p-value ≤ α, you have enough evidence to reject the null hypothesis in favor of the alternative hypothesis.\n",
    "   - If p-value > α, you do not have enough evidence to reject the null hypothesis."
   ]
  },
  {
   "cell_type": "code",
   "execution_count": 12,
   "metadata": {},
   "outputs": [],
   "source": [
    "# Step 6: Make a Decision\n",
    "if p_value < alpha:\n",
    "    decision = \"Reject null hypothesis\"\n",
    "else:\n",
    "    decision = \"Fail to reject null hypothesis\""
   ]
  },
  {
   "cell_type": "markdown",
   "metadata": {},
   "source": [
    "7. **Draw Conclusion:**\n",
    "   - If you reject the null hypothesis, you can conclude that there's evidence to support the alternative hypothesis. However, you cannot conclude that the null hypothesis is true; you can only fail to reject it.\n",
    "   - If you fail to reject the null hypothesis, you don't have sufficient evidence to support the alternative hypothesis."
   ]
  },
  {
   "cell_type": "code",
   "execution_count": 13,
   "metadata": {},
   "outputs": [],
   "source": [
    "# Step 7: Draw Conclusion\n",
    "if decision == \"Reject null hypothesis\":\n",
    "    conclusion = \"There is enough evidence to support the alternative hypothesis.\"\n",
    "else:\n",
    "    conclusion = \"There is not enough evidence to support the alternative hypothesis.\""
   ]
  },
  {
   "cell_type": "markdown",
   "metadata": {},
   "source": [
    "8. **Consider Effect Size (Optional):**\n",
    "   - While not a part of the formal hypothesis testing process, it's often important to consider the effect size, which indicates the practical significance of the observed difference or relationship."
   ]
  },
  {
   "cell_type": "code",
   "execution_count": 14,
   "metadata": {},
   "outputs": [],
   "source": [
    "# Step 8: Consider Effect Size (Optional)\n",
    "effect_size = (sample_mean - hypothesized_mean) / sample_std"
   ]
  },
  {
   "cell_type": "markdown",
   "metadata": {},
   "source": [
    "9. **Report Results:**\n",
    "   - Communicate your findings, including the test performed, the calculated test statistic, the p-value, the decision made (whether to reject or fail to reject the null hypothesis), and any relevant effect sizes."
   ]
  },
  {
   "cell_type": "code",
   "execution_count": 15,
   "metadata": {},
   "outputs": [
    {
     "name": "stdout",
     "output_type": "stream",
     "text": [
      "Significance level (α): 0.05\n",
      "Sample mean: 29.3\n",
      "Effect size: -0.290937989316691\n",
      "Test statistic: -0.9200267041104786\n",
      "P-value: 0.3815568006229644\n",
      "Decision: Fail to reject null hypothesis\n",
      "Conclusion: There is not enough evidence to support the alternative hypothesis.\n"
     ]
    }
   ],
   "source": [
    "# Step 9: Report Results\n",
    "print(\"Significance level (α):\", alpha)\n",
    "print(\"Sample mean:\", sample_mean)\n",
    "print(\"Effect size:\", effect_size)\n",
    "print(\"Test statistic:\", t_statistic)\n",
    "print(\"P-value:\", p_value)\n",
    "print(\"Decision:\", decision)\n",
    "print(\"Conclusion:\", conclusion)"
   ]
  },
  {
   "cell_type": "markdown",
   "metadata": {},
   "source": [
    "Remember that hypothesis testing provides a framework for drawing conclusions based on statistical evidence, but it's important to interpret the results within the context of the specific problem and domain knowledge."
   ]
  },
  {
   "cell_type": "markdown",
   "metadata": {},
   "source": [
    "--------------------------------------------------------------------------------------------------------------------"
   ]
  },
  {
   "cell_type": "markdown",
   "metadata": {},
   "source": [
    "Q.No-08    Define p-value and explain its significance in hypothesis testing."
   ]
  },
  {
   "cell_type": "markdown",
   "metadata": {},
   "source": [
    "Ans :-"
   ]
  },
  {
   "cell_type": "markdown",
   "metadata": {},
   "source": [
    "The **`p-value`**, or probability value, is a crucial concept in statistics, particularly in the context of hypothesis testing. Hypothesis testing is a method used to make decisions about a population based on a sample of data. It helps us determine whether there is enough evidence to support a specific hypothesis or if the observed results are likely due to chance."
   ]
  },
  {
   "cell_type": "markdown",
   "metadata": {},
   "source": [
    "**Here's how the p-value works and its significance in hypothesis testing -**"
   ]
  },
  {
   "cell_type": "markdown",
   "metadata": {},
   "source": [
    "1. **`Setting Up Hypotheses :`**\n",
    "   In hypothesis testing, you start with two competing hypotheses: the null hypothesis (H0) and the alternative hypothesis (Ha). The null hypothesis often represents the status quo or a lack of effect, while the alternative hypothesis represents the claim you're trying to establish."
   ]
  },
  {
   "cell_type": "markdown",
   "metadata": {},
   "source": [
    "2. **`Collecting and Analyzing Data :`**\n",
    "   You collect a sample of data and analyze it to draw conclusions about the population. This analysis usually involves calculating a test statistic, which measures the difference between the sample data and what is expected under the null hypothesis."
   ]
  },
  {
   "cell_type": "markdown",
   "metadata": {},
   "source": [
    "3. **`Calculating the p-value :`**\n",
    "   The p-value is a measure of how extreme the observed data is, assuming that the null hypothesis is true. It quantifies the probability of observing a test statistic as extreme as, or more extreme than, the one calculated from the sample data."
   ]
  },
  {
   "cell_type": "markdown",
   "metadata": {},
   "source": [
    "4. **`Interpreting the p-value :`**\n",
    "   The p-value is compared to a significance level (often denoted as α) that you choose before conducting the test. Common significance levels include 0.05, 0.01, and 0.10. The significance level represents the threshold for deciding whether the evidence in the data is strong enough to reject the null hypothesis.\n",
    "\n",
    "   - If p-value ≤ α: You have enough evidence to reject the null hypothesis. This suggests that the observed data is unlikely to have occurred by chance alone, and you may favor the alternative hypothesis.\n",
    "   \n",
    "   - If p-value > α: You do not have enough evidence to reject the null hypothesis. This indicates that the observed data could plausibly occur due to random variation, and you would not support the alternative hypothesis."
   ]
  },
  {
   "cell_type": "markdown",
   "metadata": {},
   "source": [
    "5. **`Drawing Conclusions :`**\n",
    "   Based on the comparison between the p-value and the significance level, you make a decision. If the p-value is low (≤ α), you might conclude that there is a statistically significant effect, and you reject the null hypothesis in favor of the alternative. If the p-value is high (> α), you fail to reject the null hypothesis due to lack of significant evidence."
   ]
  },
  {
   "cell_type": "markdown",
   "metadata": {},
   "source": [
    "In summary, the p-value serves as a tool for making informed decisions in hypothesis testing. It helps quantify the strength of evidence against the null hypothesis and guides researchers and analysts in determining whether the observed results are statistically significant or likely due to chance. Keep in mind that the interpretation of p-values requires careful consideration of the chosen significance level and the context of the study."
   ]
  },
  {
   "cell_type": "markdown",
   "metadata": {},
   "source": [
    "--------------------------------------------------------------------------------------------------------------------"
   ]
  },
  {
   "cell_type": "markdown",
   "metadata": {},
   "source": [
    "Q.No-09    Generate a Student's t-distribution plot using Python's matplotlib library, with the degrees of freedom\n",
    "parameter set to 10."
   ]
  },
  {
   "cell_type": "markdown",
   "metadata": {},
   "source": [
    "Ans :-"
   ]
  },
  {
   "cell_type": "code",
   "execution_count": 16,
   "metadata": {},
   "outputs": [
    {
     "data": {
      "image/png": "[encoded data removed]",
      "text/plain": [
       "<Figure size 800x600 with 1 Axes>"
      ]
     },
     "metadata": {},
     "output_type": "display_data"
    }
   ],
   "source": [
    "import numpy as np\n",
    "import matplotlib.pyplot as plt\n",
    "from scipy.stats import t\n",
    "\n",
    "# Parameters\n",
    "df = 10  # Degrees of freedom\n",
    "\n",
    "# Generate x values\n",
    "x = np.linspace(-5, 5, 400)\n",
    "\n",
    "# Calculate the corresponding y values using the t-distribution\n",
    "y = t.pdf(x, df)\n",
    "\n",
    "# Create the plot\n",
    "plt.figure(figsize=(8, 6))\n",
    "plt.plot(x, y, label=f\"Degrees of Freedom = {df}\")\n",
    "plt.title(\"Student's t-distribution\")\n",
    "plt.xlabel(\"x\")\n",
    "plt.ylabel(\"Probability Density\")\n",
    "plt.legend()\n",
    "plt.grid(True)\n",
    "plt.show()"
   ]
  },
  {
   "cell_type": "markdown",
   "metadata": {},
   "source": [
    "--------------------------------------------------------------------------------------------------------------------"
   ]
  },
  {
   "cell_type": "markdown",
   "metadata": {},
   "source": [
    "Q.No-10    Write a Python program to calculate the two-sample t-test for independent samples, given two random samples of equal size and a null hypothesis that the population means are equal."
   ]
  },
  {
   "cell_type": "markdown",
   "metadata": {},
   "source": [
    "Ans :-"
   ]
  },
  {
   "cell_type": "code",
   "execution_count": 17,
   "metadata": {},
   "outputs": [
    {
     "name": "stdout",
     "output_type": "stream",
     "text": [
      "First Sample Data :- [23 34 42 28 36]\n",
      "Mean of First Data :- 32.6\n",
      "Std Dev. of First Data :- 7.3348483283569\n",
      "\n",
      "Second Sample Data :- [31 38 29 33 37]\n",
      "Mean of Second Data :- 33.6\n",
      "Std Dev. of Second Data :- 3.847076812334269\n",
      "\n",
      "Two-Sample T-Test Results:\n",
      "T-Statistic: -0.2700\n",
      "P-Value: 0.7940\n",
      "\n",
      "Conclusion :-\n",
      "Fail to reject the null hypothesis: There is no significant difference between the population means.\n"
     ]
    }
   ],
   "source": [
    "import numpy as np\n",
    "from scipy import stats\n",
    "\n",
    "def two_sample_t_test(sample1_Q10, sample2_Q10):\n",
    "    # Calculate the means and standard deviations of the samples\n",
    "    print(\"First Sample Data :-\", sample1_Q10)\n",
    "    mean1_Q10 = np.mean(sample1_Q10)\n",
    "    std1_Q10 = np.std(sample1_Q10, ddof=1)\n",
    "    print(\"Mean of First Data :-\", mean1_Q10)\n",
    "    print(\"Std Dev. of First Data :-\",std1_Q10)\n",
    "\n",
    "    print(\"\\nSecond Sample Data :-\", sample2_Q10)\n",
    "    mean2_Q10 = np.mean(sample2_Q10)\n",
    "    std2_Q10 = np.std(sample2_Q10, ddof=1)\n",
    "    print(\"Mean of Second Data :-\", mean2_Q10)\n",
    "    print(\"Std Dev. of Second Data :-\",std2_Q10)\n",
    "    \n",
    "    # Calculate the t-statistic\n",
    "    n1_Q10 = len(sample1_Q10)\n",
    "    n2_Q10 = len(sample2_Q10)\n",
    "    pooled_std_Q10 = np.sqrt(((n1_Q10 - 1) * std1_Q10**2 + (n2_Q10 - 1) * std2_Q10**2) / (n1_Q10 + n2_Q10 - 2))\n",
    "    t_statistic_Q10 = (mean1_Q10 - mean2_Q10) / (pooled_std_Q10 * np.sqrt(1/n1_Q10 + 1/n2_Q10))\n",
    "    \n",
    "    # Calculate the degrees of freedom\n",
    "    degrees_of_freedom_Q10 = n1_Q10 + n2_Q10 - 2\n",
    "    \n",
    "    # Calculate the p-value using the t-distribution\n",
    "    p_value_Q10 = 2 * (1 - stats.t.cdf(np.abs(t_statistic_Q10), df=degrees_of_freedom_Q10))\n",
    "    \n",
    "    return t_statistic_Q10, p_value_Q10, mean1_Q10, mean2_Q10, std1_Q10, std2_Q10\n",
    "\n",
    "# Example data\n",
    "sample1_Q10 = np.array([23, 34, 42, 28, 36])\n",
    "sample2_Q10 = np.array([31, 38, 29, 33, 37])\n",
    "\n",
    "\n",
    "# Perform the two-sample t-test\n",
    "t_statistic_Q10, p_value_Q10, mean1_Q10, mean2_Q10, std1_Q10, std2_Q10 = two_sample_t_test(sample1_Q10, sample2_Q10)\n",
    "\n",
    "# Print the results\n",
    "print(\"\\nTwo-Sample T-Test Results:\")\n",
    "print(f\"T-Statistic: {t_statistic_Q10:.4f}\")\n",
    "print(f\"P-Value: {p_value_Q10:.4f}\")\n",
    "\n",
    "print(\"\\nConclusion :-\")\n",
    "\n",
    "# Check if the p-value is less than the significance level (e.g., 0.05) to make a decision\n",
    "alpha_Q10 = 0.05\n",
    "if p_value_Q10 < alpha_Q10:\n",
    "    print(\"Reject the null hypothesis: There is a significant difference between the population means.\")\n",
    "else:\n",
    "    print(\"Fail to reject the null hypothesis: There is no significant difference between the population means.\")"
   ]
  },
  {
   "cell_type": "markdown",
   "metadata": {},
   "source": [
    "--------------------------------------------------------------------------------------------------------------------"
   ]
  },
  {
   "cell_type": "markdown",
   "metadata": {},
   "source": [
    "Q.No-11    What is Student’s t distribution? When to use the t-Distribution."
   ]
  },
  {
   "cell_type": "markdown",
   "metadata": {},
   "source": [
    "Ans :-"
   ]
  },
  {
   "cell_type": "markdown",
   "metadata": {},
   "source": [
    "The **`Student's t-distribution`**, often simply referred to as the **`t-distribution`**, is a probability distribution that arises when dealing with small sample sizes and when the population standard deviation is unknown. It is a fundamental concept in statistics and is used primarily for hypothesis testing and constructing confidence intervals for sample means."
   ]
  },
  {
   "cell_type": "markdown",
   "metadata": {},
   "source": [
    "The **`t-distribution`** is similar in shape to the normal distribution but has heavier tails, which means it accounts for the increased variability that can occur in small sample sizes. As the sample size increases, the t-distribution approaches the shape of the standard normal distribution (Z-distribution)."
   ]
  },
  {
   "cell_type": "markdown",
   "metadata": {},
   "source": [
    "The **`t-distribution`** is defined by a parameter called degrees of freedom (df). The degrees of freedom determine the shape of the distribution. The formula for the t-distribution's probability density function (PDF) is more complex than that of the normal distribution due to the incorporation of the sample size and the estimation of the population standard deviation."
   ]
  },
  {
   "cell_type": "markdown",
   "metadata": {},
   "source": [
    "    The t-distribution is used when:"
   ]
  },
  {
   "cell_type": "markdown",
   "metadata": {},
   "source": [
    "1. **`Small Sample Sizes :`** When dealing with small sample sizes (typically when n < 30), the t-distribution is used to account for the increased uncertainty caused by the limited data points."
   ]
  },
  {
   "cell_type": "markdown",
   "metadata": {},
   "source": [
    "2. **`Population Standard Deviation Unknown :`** When the population standard deviation is unknown and has to be estimated from the sample, the t-distribution is used to account for the extra variability introduced by this estimation."
   ]
  },
  {
   "cell_type": "markdown",
   "metadata": {},
   "source": [
    "3. **`Hypothesis Testing :`** The t-distribution is commonly used in hypothesis testing, especially when dealing with small samples. For example, when comparing sample means to a known value or comparing two sample means, the t-test is used."
   ]
  },
  {
   "cell_type": "markdown",
   "metadata": {},
   "source": [
    "4. **`Confidence Intervals :`** The t-distribution is used to construct confidence intervals for the population mean. Confidence intervals provide a range of values within which the true population mean is likely to fall."
   ]
  },
  {
   "cell_type": "markdown",
   "metadata": {},
   "source": [
    "In summary, the t-distribution is a crucial tool in statistics for handling situations involving small sample sizes and unknown population standard deviations. It allows statisticians to make more accurate inferences about the population based on limited data and provides a way to account for the increased uncertainty associated with these scenarios."
   ]
  },
  {
   "cell_type": "markdown",
   "metadata": {},
   "source": [
    "--------------------------------------------------------------------------------------------------------------------"
   ]
  },
  {
   "cell_type": "markdown",
   "metadata": {},
   "source": [
    "Q.No-12    What is t-statistic? State the formula for t-statistic."
   ]
  },
  {
   "cell_type": "markdown",
   "metadata": {},
   "source": [
    "Ans :-"
   ]
  },
  {
   "cell_type": "markdown",
   "metadata": {},
   "source": [
    "The **`t-statistic`**, also known as the Student's t-statistic, is a measure used in statistics to assess the significance of the difference between the means of two samples. It's commonly employed when the sample sizes are small and the population standard deviations are unknown."
   ]
  },
  {
   "cell_type": "markdown",
   "metadata": {},
   "source": [
    "The formula for the t-statistic is:"
   ]
  },
  {
   "cell_type": "markdown",
   "metadata": {},
   "source": [
    "$$ t = \\frac{\\bar{x}_1 - \\bar{x}_2}{\\sqrt{\\frac{s_1^2}{n_1} + \\frac{s_2^2}{n_2}}} $$"
   ]
  },
  {
   "cell_type": "markdown",
   "metadata": {},
   "source": [
    "Where:\n",
    "- $\\bar{x}_1$ and $\\bar{x}_2$ are the sample means of the two groups being compared.\n",
    "- $s_1$ and $s_2$ are the sample standard deviations of the two groups.\n",
    "- $n_1$ and $n_2$ are the sample sizes of the two groups."
   ]
  },
  {
   "cell_type": "markdown",
   "metadata": {},
   "source": [
    "The t-statistic measures how many standard deviations the difference between the sample means is away from the null hypothesis (which typically assumes that the two population means are equal). A larger t-statistic indicates a greater difference between the sample means, and if the t-statistic is significantly different from zero, it suggests that the difference is unlikely to have occurred due to random chance alone."
   ]
  },
  {
   "cell_type": "markdown",
   "metadata": {},
   "source": [
    "Researchers often compare the calculated t-statistic to critical values from the t-distribution with $n_1 + n_2 - 2$ degrees of freedom to determine whether the observed difference between means is statistically significant. If the calculated t-statistic is larger than the critical value, it suggests that the difference between means is likely not due to random variation, and the null hypothesis can be rejected in favor of the alternative hypothesis that there is a significant difference between the population means."
   ]
  },
  {
   "cell_type": "markdown",
   "metadata": {},
   "source": [
    "--------------------------------------------------------------------------------------------------------------------"
   ]
  },
  {
   "cell_type": "markdown",
   "metadata": {},
   "source": [
    "Q.No-13    A coffee shop owner wants to estimate the average daily revenue for their shop. They take a random sample of 50 days and find the sample mean revenue to be $500 with a standard deviation of $50.Estimate the population mean revenue with a 95% confidence interval."
   ]
  },
  {
   "cell_type": "markdown",
   "metadata": {},
   "source": [
    "Ans :-"
   ]
  },
  {
   "cell_type": "markdown",
   "metadata": {},
   "source": [
    "To estimate the population mean revenue with a 95% confidence interval, you can use the formula for the confidence interval of the mean when the population standard deviation is unknown."
   ]
  },
  {
   "cell_type": "markdown",
   "metadata": {},
   "source": [
    "This formula uses the t-distribution because we're working with a sample and don't know the population standard deviation. The formula is:"
   ]
  },
  {
   "cell_type": "markdown",
   "metadata": {},
   "source": [
    "$$ \\text{Confidence Interval} = \\text{Sample Mean} \\pm \\text{Margin of Error} $$"
   ]
  },
  {
   "cell_type": "markdown",
   "metadata": {},
   "source": [
    "Where the Margin of Error is calculated as:"
   ]
  },
  {
   "cell_type": "markdown",
   "metadata": {},
   "source": [
    "$$ \\text{Margin of Error} = \\text{Critical Value} \\times \\frac{\\text{Sample Standard Deviation}}{\\sqrt{\\text{Sample Size}}} $$"
   ]
  },
  {
   "cell_type": "markdown",
   "metadata": {},
   "source": [
    "The critical value is obtained from the t-distribution with $n-1$ degrees of freedom (where $n$ is the sample size) and the desired confidence level. For a 95% confidence interval and a sample size of 50, the critical value can be found using statistical tables or a calculator."
   ]
  },
  {
   "cell_type": "markdown",
   "metadata": {},
   "source": [
    "Let's calculate the confidence interval step by step:"
   ]
  },
  {
   "cell_type": "markdown",
   "metadata": {},
   "source": [
    "1. Sample mean ($\\bar{x} $) = $500"
   ]
  },
  {
   "cell_type": "markdown",
   "metadata": {},
   "source": [
    "2. Sample standard deviation ($ s $) = $50"
   ]
  },
  {
   "cell_type": "markdown",
   "metadata": {},
   "source": [
    "3. Sample size ($ n $) = 50"
   ]
  },
  {
   "cell_type": "markdown",
   "metadata": {},
   "source": [
    "4. Degrees of freedom ($ df $) = $ n - 1 $ = 49"
   ]
  },
  {
   "cell_type": "markdown",
   "metadata": {},
   "source": [
    "5. Confidence level = 95%"
   ]
  },
  {
   "cell_type": "markdown",
   "metadata": {},
   "source": [
    "6. Critical value (from t-distribution for 95% confidence with 49 degrees of freedom) ≈ 2.0096"
   ]
  },
  {
   "cell_type": "markdown",
   "metadata": {},
   "source": [
    "Now plug the values into the formula:"
   ]
  },
  {
   "cell_type": "markdown",
   "metadata": {},
   "source": [
    "$$ \\text{Margin of Error} = 2.0096 \\times \\frac{50}{\\sqrt{50}} \\approx 14.16 $$"
   ]
  },
  {
   "cell_type": "markdown",
   "metadata": {},
   "source": [
    "Finally, calculate the confidence interval:"
   ]
  },
  {
   "cell_type": "markdown",
   "metadata": {},
   "source": [
    "$$ \\text{Confidence Interval} = \\$500 \\pm \\$14.16 $$"
   ]
  },
  {
   "cell_type": "markdown",
   "metadata": {},
   "source": [
    "So, the estimated population mean revenue with a 95% confidence interval is approximately \\( \\$500 \\pm \\$14.16 \\), which means the population mean revenue is likely to fall between \\( \\$485.84 \\) and \\( \\$514.16 \\)."
   ]
  },
  {
   "cell_type": "markdown",
   "metadata": {},
   "source": [
    "**In Python, We use `scipy` and `numpy` libraries to calculate the confidence interval :-**"
   ]
  },
  {
   "cell_type": "code",
   "execution_count": 18,
   "metadata": {},
   "outputs": [
    {
     "name": "stdout",
     "output_type": "stream",
     "text": [
      "Confidence Interval: 485.79 - 514.21\n"
     ]
    }
   ],
   "source": [
    "import numpy as np\n",
    "from scipy.stats import t\n",
    "\n",
    "# Given values\n",
    "sample_mean = 500\n",
    "sample_std = 50\n",
    "sample_size = 50\n",
    "confidence_level = 0.95\n",
    "\n",
    "# Degrees of freedom\n",
    "degrees_of_freedom = sample_size - 1\n",
    "\n",
    "# Calculate the critical value from the t-distribution\n",
    "critical_value = t.ppf((1 + confidence_level) / 2, df=degrees_of_freedom)\n",
    "\n",
    "# Calculate the margin of error\n",
    "margin_of_error = critical_value * (sample_std / np.sqrt(sample_size))\n",
    "\n",
    "# Calculate the confidence interval\n",
    "lower_bound = sample_mean - margin_of_error\n",
    "upper_bound = sample_mean + margin_of_error\n",
    "\n",
    "# Print the results\n",
    "print(\"Confidence Interval: {:.2f} - {:.2f}\".format(lower_bound, upper_bound))"
   ]
  },
  {
   "cell_type": "markdown",
   "metadata": {},
   "source": [
    "--------------------------------------------------------------------------------------------------------------------"
   ]
  },
  {
   "cell_type": "markdown",
   "metadata": {},
   "source": [
    "Q.No-14    A researcher hypothesizes that a new drug will decrease blood pressure by 10 mmHg. They conduct a clinical trial with 100 patients and find that the sample mean decrease in blood pressure is 8 mmHg with a standard deviation of 3 mmHg. Test the hypothesis with a significance level of 0.05."
   ]
  },
  {
   "cell_type": "markdown",
   "metadata": {},
   "source": [
    "Ans :-"
   ]
  },
  {
   "cell_type": "markdown",
   "metadata": {},
   "source": [
    "To test the hypothesis, we can perform a one-sample t-test. The null hypothesis (H0) is that the new drug does not decrease blood pressure by 10 mmHg, and the alternative hypothesis (H1) is that the new drug does decrease blood pressure by 10 mmHg."
   ]
  },
  {
   "cell_type": "markdown",
   "metadata": {},
   "source": [
    "**`Given :`**\n",
    "- Sample mean ($x̄$) = 8 mmHg\n",
    "- Population mean ($μ$) under the null hypothesis = 10 mmHg\n",
    "- Sample standard deviation ($s$) = 3 mmHg\n",
    "- Sample size ($n$) = 100\n",
    "- Significance level ($α$) = 0.05"
   ]
  },
  {
   "cell_type": "markdown",
   "metadata": {},
   "source": [
    "**`The formula for the t-statistic in a one-sample t-test is :`**"
   ]
  },
  {
   "cell_type": "markdown",
   "metadata": {},
   "source": [
    "$$t = (x̄ - μ) / (s / √n)$$"
   ]
  },
  {
   "cell_type": "markdown",
   "metadata": {},
   "source": [
    "**`Substitute the values :`**"
   ]
  },
  {
   "cell_type": "markdown",
   "metadata": {},
   "source": [
    "$$t = (8 - 10) / (3 / √100)$$\n",
    "\n",
    "$$t = -2 / 0.3$$\n",
    "\n",
    "$$t = -6.6667$$"
   ]
  },
  {
   "cell_type": "markdown",
   "metadata": {},
   "source": [
    "Now, we need to find the critical t-value from the t-distribution for a significance level of 0.05 with 99 degrees of freedom (n - 1 = 100 - 1 = 99). You can use a t-table or a statistical calculator to find this value. For a two-tailed test, the critical t-value is approximately ±1.984."
   ]
  },
  {
   "cell_type": "markdown",
   "metadata": {},
   "source": [
    "Since the calculated t-value (-6.6667) is outside the range of ±1.984, we can reject the null hypothesis."
   ]
  },
  {
   "cell_type": "markdown",
   "metadata": {},
   "source": [
    "**`Conclusion :`**"
   ]
  },
  {
   "cell_type": "markdown",
   "metadata": {},
   "source": [
    "At a significance level of 0.05, there is enough evidence to conclude that the new drug decreases blood pressure by more than 10 mmHg, as the sample mean decrease of 8 mmHg is significantly different from the hypothesized decrease of 10 mmHg."
   ]
  },
  {
   "cell_type": "markdown",
   "metadata": {},
   "source": [
    "**In Python, We can Use hypothesis testing. We can use the `scipy` library to calculate the t-statistic and p-value for the one-sample t-test.**"
   ]
  },
  {
   "cell_type": "code",
   "execution_count": 19,
   "metadata": {},
   "outputs": [
    {
     "name": "stdout",
     "output_type": "stream",
     "text": [
      "t-statistic: -6.666666666666667\n",
      "p-value: 1.5012289189542116e-09\n",
      "Conclusion: Reject the null hypothesis\n"
     ]
    }
   ],
   "source": [
    "import scipy.stats as stats\n",
    "\n",
    "# Given data\n",
    "sample_mean = 8\n",
    "population_mean = 10\n",
    "sample_std = 3\n",
    "sample_size = 100\n",
    "significance_level = 0.05\n",
    "\n",
    "# Calculate the t-statistic\n",
    "t_statistic = (sample_mean - population_mean) / (sample_std / (sample_size ** 0.5))\n",
    "\n",
    "# Calculate the degrees of freedom\n",
    "degrees_of_freedom = sample_size - 1\n",
    "\n",
    "# Calculate the p-value for a two-tailed test\n",
    "p_value = 2 * (1 - stats.t.cdf(abs(t_statistic), df=degrees_of_freedom))\n",
    "\n",
    "# Compare p-value with significance level to make a decision\n",
    "if p_value < significance_level:\n",
    "    conclusion = \"Reject the null hypothesis\"\n",
    "else:\n",
    "    conclusion = \"Fail to reject the null hypothesis\"\n",
    "\n",
    "print(\"t-statistic:\", t_statistic)\n",
    "print(\"p-value:\", p_value)\n",
    "print(\"Conclusion:\", conclusion)"
   ]
  },
  {
   "cell_type": "markdown",
   "metadata": {},
   "source": [
    "--------------------------------------------------------------------------------------------------------------------"
   ]
  },
  {
   "cell_type": "markdown",
   "metadata": {},
   "source": [
    "Q.No-15    An electronics company produces a certain type of product with a mean weight of 5 pounds and a standard deviation of 0.5 pounds. A random sample of 25 products is taken, and the sample mean weight is found to be 4.8 pounds. Test the hypothesis that the true mean weight of the products is less than 5 pounds with a significance level of 0.01."
   ]
  },
  {
   "cell_type": "markdown",
   "metadata": {},
   "source": [
    "Ans :-"
   ]
  },
  {
   "cell_type": "markdown",
   "metadata": {},
   "source": [
    "To test the hypothesis that the true mean weight of the products is less than 5 pounds, you can perform a one-sample t-test. Here's how you can approach this problem:"
   ]
  },
  {
   "cell_type": "markdown",
   "metadata": {},
   "source": [
    "**Step 1:- `State the Hypotheses`**\n",
    "\n",
    "Null Hypothesis (H0): The true mean weight of the products is equal to 5 pounds.\n",
    "Alternative Hypothesis (H1): The true mean weight of the products is less than 5 pounds."
   ]
  },
  {
   "cell_type": "markdown",
   "metadata": {},
   "source": [
    "**Step 2:- `Set the Significance Level`**\n",
    "\n",
    "The significance level (alpha) is given as 0.01."
   ]
  },
  {
   "cell_type": "markdown",
   "metadata": {},
   "source": [
    "**Step 3:- `Calculate the Test Statistic`**\n",
    "\n",
    "The formula for the t-test statistic for a one-sample t-test is given by:\n",
    "\n",
    "$$t = (x̄ - μ) / (s / √n)$$\n",
    "\n",
    "Where:\n",
    "- $x̄$ is the sample mean weight (4.8 pounds)\n",
    "- $μ$ is the population mean weight (5 pounds)\n",
    "- $s$ is the sample standard deviation (0.5 pounds)\n",
    "- $n$ is the sample size (25)\n",
    "\n",
    "Substitute the values -\n",
    "\n",
    "t = (4.8 - 5) / (0.5 / √25)\n",
    "\n",
    "t = -0.2 / (0.5 / 5)\n",
    "\n",
    "t = -0.2 / 0.1\n",
    "\n",
    "t = -2"
   ]
  },
  {
   "cell_type": "markdown",
   "metadata": {},
   "source": [
    "**Step 4:- `Determine the Critical Value`**\n",
    "\n",
    "Since we are testing whether the true mean weight is less than 5 pounds, we will use a one-tailed test. With a significance level of 0.01 and degrees of freedom (df) equal to n - 1 = 24, you can find the critical t-value using a t-distribution table or a statistical calculator. The critical t-value for a one-tailed test at α = 0.01 and df = 24 is approximately -2.492."
   ]
  },
  {
   "cell_type": "markdown",
   "metadata": {},
   "source": [
    "**Step 5:- `Make a Decision`**\n",
    "\n",
    "Compare the calculated t-value (-2) with the critical t-value (-2.492). Since the calculated t-value (-2) is greater than the critical t-value (-2.492), we do not have enough evidence to reject the null hypothesis."
   ]
  },
  {
   "cell_type": "markdown",
   "metadata": {},
   "source": [
    "**Step 6:- `Draw a Conclusion`**\n",
    "\n",
    "Based on the test, at a significance level of 0.01, we do not have sufficient evidence to conclude that the true mean weight of the products is less than 5 pounds. Therefore, we fail to reject the null hypothesis."
   ]
  },
  {
   "cell_type": "markdown",
   "metadata": {},
   "source": [
    "In simpler terms, the sample data does not provide strong enough evidence to support the claim that the true mean weight of the products is less than 5 pounds."
   ]
  },
  {
   "cell_type": "markdown",
   "metadata": {},
   "source": [
    "**In Python, We can perform hypothesis testing using the `scipy.stats` module.**"
   ]
  },
  {
   "cell_type": "code",
   "execution_count": 20,
   "metadata": {},
   "outputs": [
    {
     "name": "stdout",
     "output_type": "stream",
     "text": [
      "Fail to reject the null hypothesis\n"
     ]
    }
   ],
   "source": [
    "import numpy as np\n",
    "from scipy import stats\n",
    "\n",
    "# Given values\n",
    "sample_mean = 4.8\n",
    "population_mean = 5\n",
    "sample_std = 0.5\n",
    "sample_size = 25\n",
    "significance_level = 0.01\n",
    "\n",
    "# Calculate the t-value\n",
    "t_value = (sample_mean - population_mean) / (sample_std / np.sqrt(sample_size))\n",
    "\n",
    "# Calculate the critical t-value\n",
    "critical_t_value = stats.t.ppf(significance_level, df=sample_size - 1)\n",
    "\n",
    "# Perform the hypothesis test\n",
    "if t_value < critical_t_value:\n",
    "    print(\"Reject the null hypothesis\")\n",
    "else:\n",
    "    print(\"Fail to reject the null hypothesis\")"
   ]
  },
  {
   "cell_type": "markdown",
   "metadata": {},
   "source": [
    "--------------------------------------------------------------------------------------------------------------------"
   ]
  },
  {
   "cell_type": "markdown",
   "metadata": {},
   "source": [
    "Q.No-16    Two groups of students are given different study materials to prepare for a test. The first group (n1 = 30) has a mean score of 80 with a standard deviation of 10, and the second group (n2 = 40) has a mean score of 75 with a standard deviation of 8. Test the hypothesis that the population means for the two groups are equal with a significance level of 0.01."
   ]
  },
  {
   "cell_type": "markdown",
   "metadata": {},
   "source": [
    "Ans :-"
   ]
  },
  {
   "cell_type": "markdown",
   "metadata": {},
   "source": [
    "To test the hypothesis that the population means for the two groups are equal, you can use a two-sample t-test since you have two independent samples with different sample sizes and standard deviations. Here's how you can perform the test:"
   ]
  },
  {
   "cell_type": "markdown",
   "metadata": {},
   "source": [
    "**Step 1:- `State the hypotheses`**\n",
    "\n",
    "Null Hypothesis ($H_0$): The population means for the two groups are equal.\n",
    "Alternative Hypothesis ($H_1$): The population means for the two groups are not equal.\n",
    "\n",
    "Mathematically:\n",
    "$$H_0: μ1 = μ2$$\n",
    "\n",
    "$$H_1: μ1 ≠ μ2$$"
   ]
  },
  {
   "cell_type": "markdown",
   "metadata": {},
   "source": [
    "**Step 2:- `Calculate the test statistic`**\n",
    "\n",
    "The formula for the two-sample t-test for unequal variances is given by:\n",
    "\n",
    "$$ t = \\frac{\\bar{x}_1 - \\bar{x}_2}{\\sqrt{\\frac{s_1^2}{n_1} + \\frac{s_2^2}{n_2}}} $$\n",
    "\n",
    "Where:\n",
    "- $\\bar{x}_1$ = Mean of the first group\n",
    "- $\\bar{x}_2$ = Mean of the second group\n",
    "- $s_1$ = Standard deviation of the first group\n",
    "- $s_2$ = Standard deviation of the second group\n",
    "- $n_1$ = Sample size of the first group\n",
    "- $n_2$ = Sample size of the second group\n",
    "\n",
    "Plugging in the values given:\n",
    "\n",
    "$$\\bar{x}_1 = 80, s_1 = 10, n_1 = 30$$\n",
    "\n",
    "$$\\bar{x}_2 = 75, s_2 = 8, n_2 = 40$$\n",
    "\n",
    "Calculate $t$:\n",
    "\n",
    "$$ t = \\frac{80 - 75}{\\sqrt{\\frac{10^2}{30} + \\frac{8^2}{40}}} $$\n",
    "$$ t \\approx 2.49 $$"
   ]
  },
  {
   "cell_type": "markdown",
   "metadata": {},
   "source": [
    "**Step 3:- `Determine the critical value`**\n",
    "\n",
    "Since the significance level is 0.01 and this is a two-tailed test, you need to find the critical value corresponding to an alpha level of 0.005 (0.01 divided by 2). You can use a t-distribution table or a statistical software to find this value."
   ]
  },
  {
   "cell_type": "markdown",
   "metadata": {},
   "source": [
    "**Step 4:- `Compare the test statistic with the critical value`**\n",
    "\n",
    "If the absolute value of the calculated $t$ is greater than the critical value, you reject the null hypothesis. Otherwise, you fail to reject the null hypothesis.\n",
    "\n",
    "In this case, $|t| = 2.49$ is likely greater than the critical value, which would lead to rejecting the null hypothesis."
   ]
  },
  {
   "cell_type": "markdown",
   "metadata": {},
   "source": [
    "**Step 5:- `Make a decision and interpret the result`**\n",
    "\n",
    "Since you reject the null hypothesis, you can conclude that there is sufficient evidence to suggest that the population means for the two groups are not equal at the 0.01 significance level."
   ]
  },
  {
   "cell_type": "markdown",
   "metadata": {},
   "source": [
    "**In Python, We can Use the `scipy.stats` library to perform the two-sample t-test.**"
   ]
  },
  {
   "cell_type": "code",
   "execution_count": 21,
   "metadata": {},
   "outputs": [
    {
     "name": "stdout",
     "output_type": "stream",
     "text": [
      "Calculated t-statistic: 2.2511258444537408\n",
      "Critical t-value: 2.6500812928169553\n",
      "Conclusion: Fail to reject the null hypothesis\n"
     ]
    }
   ],
   "source": [
    "import numpy as np\n",
    "from scipy import stats\n",
    "\n",
    "# Data for the two groups\n",
    "group1_mean = 80\n",
    "group1_std = 10\n",
    "group1_size = 30\n",
    "\n",
    "group2_mean = 75\n",
    "group2_std = 8\n",
    "group2_size = 40\n",
    "\n",
    "# Calculate the test statistic\n",
    "numerator = group1_mean - group2_mean\n",
    "denominator = np.sqrt((group1_std ** 2 / group1_size) + (group2_std ** 2 / group2_size))\n",
    "t_statistic = numerator / denominator\n",
    "\n",
    "# Degrees of freedom for the t-distribution\n",
    "degrees_of_freedom = group1_size + group2_size - 2\n",
    "\n",
    "# Calculate the critical t-value for a two-tailed test at significance level 0.01\n",
    "alpha = 0.01\n",
    "critical_t = stats.t.ppf(1 - alpha / 2, df=degrees_of_freedom)\n",
    "\n",
    "# Compare the test statistic with the critical value\n",
    "if np.abs(t_statistic) > critical_t:\n",
    "    result = \"Reject the null hypothesis\"\n",
    "else:\n",
    "    result = \"Fail to reject the null hypothesis\"\n",
    "\n",
    "print(\"Calculated t-statistic:\", t_statistic)\n",
    "print(\"Critical t-value:\", critical_t)\n",
    "print(\"Conclusion:\", result)"
   ]
  },
  {
   "cell_type": "markdown",
   "metadata": {},
   "source": [
    "Q.No-17    A marketing company wants to estimate the average number of ads watched by viewers during a TV program. They take a random sample of 50 viewers and find that the sample mean is 4 with a standard deviation of 1.5. Estimate the population mean with a 99% confidence interval."
   ]
  },
  {
   "cell_type": "markdown",
   "metadata": {},
   "source": [
    "Ans :-"
   ]
  },
  {
   "cell_type": "markdown",
   "metadata": {},
   "source": [
    "To estimate the population mean with a 99% confidence interval, you can use the formula for the confidence interval of the mean when the population standard deviation is known:"
   ]
  },
  {
   "cell_type": "markdown",
   "metadata": {},
   "source": [
    "$$Confidence Interval = Sample Mean ± Z * (Population Standard Deviation / √Sample Size)$$"
   ]
  },
  {
   "cell_type": "markdown",
   "metadata": {},
   "source": [
    "Where:\n",
    "- Sample Mean = 4 (mean number of ads watched by the sample)\n",
    "- Population Standard Deviation = 1.5 (standard deviation of the population)\n",
    "- Sample Size = 50 (number of viewers in the sample)\n",
    "- Z is the Z-score corresponding to the desired confidence level. For a 99% confidence level, the Z-score is approximately 2.576."
   ]
  },
  {
   "cell_type": "markdown",
   "metadata": {},
   "source": [
    "Now plug in the values:\n",
    "\n",
    "$$Confidence Interval = 4 ± 2.576 * (1.5 / √50)$$"
   ]
  },
  {
   "cell_type": "markdown",
   "metadata": {},
   "source": [
    "Calculate the values:\n",
    "\n",
    "$$Confidence Interval = 4 ± 2.576 * (0.2121)$$\n",
    "\n",
    "$$Confidence Interval ≈ 4 ± 0.5471$$"
   ]
  },
  {
   "cell_type": "markdown",
   "metadata": {},
   "source": [
    "So, the 99% confidence interval for the population mean number of ads watched by viewers during a TV program is approximately (3.4529, 4.5471). This means we can be 99% confident that the true population mean falls within this interval."
   ]
  },
  {
   "cell_type": "markdown",
   "metadata": {},
   "source": [
    "**In Python, We can Use `scipy.stats`and `math` module to Calculate the 99% confidence interval for the population mean.**"
   ]
  },
  {
   "cell_type": "code",
   "execution_count": 22,
   "metadata": {},
   "outputs": [
    {
     "name": "stdout",
     "output_type": "stream",
     "text": [
      "99% Confidence Interval: (3.4535840896844654, 4.546415910315535)\n"
     ]
    }
   ],
   "source": [
    "import scipy.stats as stats\n",
    "import math\n",
    "\n",
    "sample_mean = 4\n",
    "population_stddev = 1.5\n",
    "sample_size = 50\n",
    "confidence_level = 0.99\n",
    "\n",
    "# Calculate the Z-score for the desired confidence level\n",
    "z_score = stats.norm.ppf((1 + confidence_level) / 2)\n",
    "\n",
    "# Calculate the margin of error\n",
    "margin_of_error = z_score * (population_stddev / math.sqrt(sample_size))\n",
    "\n",
    "# Calculate the confidence interval\n",
    "lower_bound = sample_mean - margin_of_error\n",
    "upper_bound = sample_mean + margin_of_error\n",
    "\n",
    "print(\"99% Confidence Interval:\", (lower_bound, upper_bound))"
   ]
  },
  {
   "cell_type": "markdown",
   "metadata": {},
   "source": [
    "                                    END"
   ]
  }
 ],
 "metadata": {
  "kernelspec": {
   "display_name": "Python 3",
   "language": "python",
   "name": "python3"
  },
  "language_info": {
   "codemirror_mode": {
    "name": "ipython",
    "version": 3
   },
   "file_extension": ".py",
   "mimetype": "text/x-python",
   "name": "python",
   "nbconvert_exporter": "python",
   "pygments_lexer": "ipython3",
   "version": "3.9.13"
  },
  "orig_nbformat": 4
 },
 "nbformat": 4,
 "nbformat_minor": 2
}
